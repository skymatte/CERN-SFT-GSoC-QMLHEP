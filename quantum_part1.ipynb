{
 "cells": [
  {
   "cell_type": "code",
   "execution_count": 56,
   "metadata": {},
   "outputs": [],
   "source": [
    "import cirq\n",
    "import numpy as np"
   ]
  },
  {
   "cell_type": "code",
   "execution_count": 78,
   "metadata": {},
   "outputs": [],
   "source": [
    "q = [cirq.GridQubit(i,0) for i in range(5)]"
   ]
  },
  {
   "cell_type": "code",
   "execution_count": 79,
   "metadata": {
    "scrolled": true
   },
   "outputs": [
    {
     "data": {
      "text/plain": [
       "[cirq.GridQubit(0, 0),\n",
       " cirq.GridQubit(1, 0),\n",
       " cirq.GridQubit(2, 0),\n",
       " cirq.GridQubit(3, 0),\n",
       " cirq.GridQubit(4, 0)]"
      ]
     },
     "execution_count": 79,
     "metadata": {},
     "output_type": "execute_result"
    }
   ],
   "source": [
    "q"
   ]
  },
  {
   "cell_type": "code",
   "execution_count": 91,
   "metadata": {},
   "outputs": [],
   "source": [
    "circuit = cirq.Circuit()\n",
    "circuit.append(cirq.H(i) for i in q)"
   ]
  },
  {
   "cell_type": "code",
   "execution_count": 92,
   "metadata": {},
   "outputs": [
    {
     "name": "stdout",
     "output_type": "stream",
     "text": [
      "(0, 0): ───H───\n",
      "\n",
      "(1, 0): ───H───\n",
      "\n",
      "(2, 0): ───H───\n",
      "\n",
      "(3, 0): ───H───\n",
      "\n",
      "(4, 0): ───H───\n"
     ]
    }
   ],
   "source": [
    "print(circuit)"
   ]
  },
  {
   "cell_type": "code",
   "execution_count": 93,
   "metadata": {},
   "outputs": [],
   "source": [
    "from cirq.ops import CNOT\n",
    "circuit.append(cirq.ops.CNOT(q[i], q[i+1])for i in range(4))"
   ]
  },
  {
   "cell_type": "code",
   "execution_count": 95,
   "metadata": {},
   "outputs": [
    {
     "name": "stdout",
     "output_type": "stream",
     "text": [
      "(0, 0): ───H───@───────────────\n",
      "               │\n",
      "(1, 0): ───H───X───@───────────\n",
      "                   │\n",
      "(2, 0): ───H───────X───@───────\n",
      "                       │\n",
      "(3, 0): ───H───────────X───@───\n",
      "                           │\n",
      "(4, 0): ───H───────────────X───\n"
     ]
    }
   ],
   "source": [
    "print(circuit)"
   ]
  },
  {
   "cell_type": "code",
   "execution_count": 96,
   "metadata": {},
   "outputs": [],
   "source": [
    "circuit.append(cirq.ops.SWAP(q[0],q[4]))"
   ]
  },
  {
   "cell_type": "code",
   "execution_count": 97,
   "metadata": {},
   "outputs": [
    {
     "name": "stdout",
     "output_type": "stream",
     "text": [
      "(0, 0): ───H───@───────────────×───\n",
      "               │               │\n",
      "(1, 0): ───H───X───@───────────┼───\n",
      "                   │           │\n",
      "(2, 0): ───H───────X───@───────┼───\n",
      "                       │       │\n",
      "(3, 0): ───H───────────X───@───┼───\n",
      "                           │   │\n",
      "(4, 0): ───H───────────────X───×───\n"
     ]
    }
   ],
   "source": [
    "print(circuit)"
   ]
  },
  {
   "cell_type": "code",
   "execution_count": 98,
   "metadata": {},
   "outputs": [
    {
     "name": "stdout",
     "output_type": "stream",
     "text": [
      "                                             ┌─────────┐\n",
      "(0, 0): ───H───@──────────────────────────────×────────────X^(-6/7)───\n",
      "               │                              │\n",
      "(1, 0): ───H───X───@───X^(-6/7)───────────────┼───────────────────────\n",
      "                   │                          │\n",
      "(2, 0): ───H───────X───@──────────X^(-6/7)────┼───────────────────────\n",
      "                       │                      │\n",
      "(3, 0): ───H───────────X──────────@───────────┼X^(-6/7)───────────────\n",
      "                                  │           │\n",
      "(4, 0): ───H──────────────────────X───────────×────────────X^(-6/7)───\n",
      "                                             └─────────┘\n"
     ]
    }
   ],
   "source": [
    "def rot_x_layer(half_turns):\n",
    "    \"\"\"Yields X rotations by half_turns\"\"\"\n",
    "    rot = cirq.XPowGate(exponent=half_turns)\n",
    "    for i in range(5):\n",
    "            yield rot(q[i])\n",
    "\n",
    "# circuit = cirq.Circuit()\n",
    "circuit.append(rot_x_layer(np.pi))\n",
    "print(circuit)"
   ]
  },
  {
   "cell_type": "code",
   "execution_count": null,
   "metadata": {},
   "outputs": [],
   "source": []
  },
  {
   "cell_type": "code",
   "execution_count": null,
   "metadata": {},
   "outputs": [],
   "source": []
  }
 ],
 "metadata": {
  "kernelspec": {
   "display_name": "Python 3",
   "language": "python",
   "name": "python3"
  },
  "language_info": {
   "codemirror_mode": {
    "name": "ipython",
    "version": 3
   },
   "file_extension": ".py",
   "mimetype": "text/x-python",
   "name": "python",
   "nbconvert_exporter": "python",
   "pygments_lexer": "ipython3",
   "version": "3.7.4"
  }
 },
 "nbformat": 4,
 "nbformat_minor": 2
}
