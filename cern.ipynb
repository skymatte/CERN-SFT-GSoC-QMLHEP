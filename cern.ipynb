{
 "cells": [
  {
   "cell_type": "code",
   "execution_count": 69,
   "metadata": {},
   "outputs": [],
   "source": [
    "import cirq\n",
    "from cirq import Simulator\n",
    "import numpy as np"
   ]
  },
  {
   "cell_type": "code",
   "execution_count": 70,
   "metadata": {},
   "outputs": [],
   "source": [
    "q = [cirq.GridQubit(i,0) for i in range(5)]"
   ]
  },
  {
   "cell_type": "code",
   "execution_count": 71,
   "metadata": {
    "scrolled": true
   },
   "outputs": [
    {
     "data": {
      "text/plain": [
       "[cirq.GridQubit(0, 0),\n",
       " cirq.GridQubit(1, 0),\n",
       " cirq.GridQubit(2, 0),\n",
       " cirq.GridQubit(3, 0),\n",
       " cirq.GridQubit(4, 0)]"
      ]
     },
     "execution_count": 71,
     "metadata": {},
     "output_type": "execute_result"
    }
   ],
   "source": [
    "q"
   ]
  },
  {
   "cell_type": "code",
   "execution_count": 72,
   "metadata": {},
   "outputs": [],
   "source": [
    "circuit = cirq.Circuit()\n",
    "circuit.append(cirq.H(i) for i in q)"
   ]
  },
  {
   "cell_type": "code",
   "execution_count": 73,
   "metadata": {},
   "outputs": [
    {
     "name": "stdout",
     "output_type": "stream",
     "text": [
      "(0, 0): ───H───\n",
      "\n",
      "(1, 0): ───H───\n",
      "\n",
      "(2, 0): ───H───\n",
      "\n",
      "(3, 0): ───H───\n",
      "\n",
      "(4, 0): ───H───\n"
     ]
    }
   ],
   "source": [
    "print(circuit)"
   ]
  },
  {
   "cell_type": "code",
   "execution_count": 74,
   "metadata": {},
   "outputs": [],
   "source": [
    "from cirq.ops import CNOT\n",
    "circuit.append(cirq.ops.CNOT(q[i], q[i+1])for i in range(4))"
   ]
  },
  {
   "cell_type": "code",
   "execution_count": 75,
   "metadata": {},
   "outputs": [
    {
     "name": "stdout",
     "output_type": "stream",
     "text": [
      "(0, 0): ───H───@───────────────\n",
      "               │\n",
      "(1, 0): ───H───X───@───────────\n",
      "                   │\n",
      "(2, 0): ───H───────X───@───────\n",
      "                       │\n",
      "(3, 0): ───H───────────X───@───\n",
      "                           │\n",
      "(4, 0): ───H───────────────X───\n"
     ]
    }
   ],
   "source": [
    "print(circuit)"
   ]
  },
  {
   "cell_type": "code",
   "execution_count": 76,
   "metadata": {},
   "outputs": [],
   "source": [
    "circuit.append(cirq.ops.SWAP(q[0],q[4]))"
   ]
  },
  {
   "cell_type": "code",
   "execution_count": 77,
   "metadata": {},
   "outputs": [
    {
     "name": "stdout",
     "output_type": "stream",
     "text": [
      "(0, 0): ───H───@───────────────×───\n",
      "               │               │\n",
      "(1, 0): ───H───X───@───────────┼───\n",
      "                   │           │\n",
      "(2, 0): ───H───────X───@───────┼───\n",
      "                       │       │\n",
      "(3, 0): ───H───────────X───@───┼───\n",
      "                           │   │\n",
      "(4, 0): ───H───────────────X───×───\n"
     ]
    }
   ],
   "source": [
    "print(circuit)"
   ]
  },
  {
   "cell_type": "code",
   "execution_count": 78,
   "metadata": {},
   "outputs": [
    {
     "name": "stdout",
     "output_type": "stream",
     "text": [
      "                                             ┌─────────┐\n",
      "(0, 0): ───H───@──────────────────────────────×────────────X^(-6/7)───\n",
      "               │                              │\n",
      "(1, 0): ───H───X───@───X^(-6/7)───────────────┼───────────────────────\n",
      "                   │                          │\n",
      "(2, 0): ───H───────X───@──────────X^(-6/7)────┼───────────────────────\n",
      "                       │                      │\n",
      "(3, 0): ───H───────────X──────────@───────────┼X^(-6/7)───────────────\n",
      "                                  │           │\n",
      "(4, 0): ───H──────────────────────X───────────×────────────X^(-6/7)───\n",
      "                                             └─────────┘\n"
     ]
    }
   ],
   "source": [
    "# def rot_x_layer(half_turns):\n",
    "#     \"\"\"Yields X rotations by half_turns\"\"\"\n",
    "#     rot = cirq.XPowGate(exponent=half_turns)\n",
    "#     for i in range(5):\n",
    "#             yield rot(q[i])\n",
    "\n",
    "# # circuit = cirq.Circuit()\n",
    "# circuit.append(rot_x_layer(np.pi))\n",
    "# print(circuit)"
   ]
  },
  {
   "cell_type": "code",
   "execution_count": 44,
   "metadata": {},
   "outputs": [
    {
     "name": "stdout",
     "output_type": "stream",
     "text": [
      "                                             ┌─────────┐\n",
      "(0, 0): ───H───@──────────────────────────────×────────────Rx(0.5π)───\n",
      "               │                              │\n",
      "(1, 0): ───H───X───@───Rx(0.5π)───────────────┼───────────────────────\n",
      "                   │                          │\n",
      "(2, 0): ───H───────X───@──────────Rx(0.5π)────┼───────────────────────\n",
      "                       │                      │\n",
      "(3, 0): ───H───────────X──────────@───────────┼Rx(0.5π)───────────────\n",
      "                                  │           │\n",
      "(4, 0): ───H──────────────────────X───────────×────────────Rx(0.5π)───\n",
      "                                             └─────────┘\n"
     ]
    }
   ],
   "source": [
    "def rot_x_layer(half_turns):\n",
    "    \"\"\"Yields X rotations by half_turns\"\"\"\n",
    "    rot = cirq.rx(half_turns)\n",
    "    for i in range(5):\n",
    "            yield rot(q[i])\n",
    "\n",
    "# circuit = cirq.Circuit()\n",
    "circuit.append(rot_x_layer(np.pi/2))\n",
    "print(circuit)"
   ]
  },
  {
   "cell_type": "markdown",
   "metadata": {},
   "source": [
    "Part 2"
   ]
  },
  {
   "cell_type": "code",
   "execution_count": 66,
   "metadata": {},
   "outputs": [
    {
     "name": "stdout",
     "output_type": "stream",
     "text": [
      "for angle to be 0.1 degrees the circuit is\n",
      "q: ───Rx(0.001π)───M───\n",
      "the probability to be in |0> state to be Counter({0: 100000})\n",
      "for angle to be 0.2 degrees the circuit is\n",
      "q: ───Rx(0.001π)───M───\n",
      "the probability to be in |0> state to be Counter({0: 99999, 1: 1})\n",
      "for angle to be 0.3 degrees the circuit is\n",
      "q: ───Rx(0.002π)───M───\n",
      "the probability to be in |0> state to be Counter({0: 99998, 1: 2})\n",
      "for angle to be 0.4 degrees the circuit is\n",
      "q: ───Rx(0.002π)───M───\n",
      "the probability to be in |0> state to be Counter({0: 99999, 1: 1})\n",
      "for angle to be 0.5 degrees the circuit is\n",
      "q: ───Rx(0.003π)───M───\n",
      "the probability to be in |0> state to be Counter({0: 99998, 1: 2})\n",
      "for angle to be 0.6 degrees the circuit is\n",
      "q: ───Rx(0.003π)───M───\n",
      "the probability to be in |0> state to be Counter({0: 99995, 1: 5})\n",
      "for angle to be 0.7 degrees the circuit is\n",
      "q: ───Rx(0.004π)───M───\n",
      "the probability to be in |0> state to be Counter({0: 99997, 1: 3})\n",
      "for angle to be 0.8 degrees the circuit is\n",
      "q: ───Rx(0.004π)───M───\n",
      "the probability to be in |0> state to be Counter({0: 99997, 1: 3})\n",
      "for angle to be 0.9 degrees the circuit is\n",
      "q: ───Rx(0.005π)───M───\n",
      "the probability to be in |0> state to be Counter({0: 99993, 1: 7})\n",
      "for angle to be 1.0 degrees the circuit is\n",
      "q: ───Rx(0.006π)───M───\n",
      "the probability to be in |0> state to be Counter({0: 99989, 1: 11})\n"
     ]
    }
   ],
   "source": [
    "q = cirq.NamedQubit('q')        \n",
    "angle = 0.1\n",
    "for i in range(10):\n",
    "    circuit = cirq.Circuit(cirq.rx(angle*np.pi/180).on(q), cirq.measure(q))\n",
    "    print(\"for angle to be \"+str(round(angle,1))+\" degrees the circuit is\" )\n",
    "    angle = angle+0.1\n",
    "    print(circuit)\n",
    "    simulator = Simulator()         \n",
    "    result = simulator.run(circuit, repetitions=100000)\n",
    "    print(\"the probability to be in |0> state to be \"+str(result.histogram(key='q')))"
   ]
  },
  {
   "cell_type": "markdown",
   "metadata": {},
   "source": [
    "From here we observe the probability to be in |0> state is high."
   ]
  },
  {
   "cell_type": "code",
   "execution_count": null,
   "metadata": {},
   "outputs": [],
   "source": []
  }
 ],
 "metadata": {
  "kernelspec": {
   "display_name": "Python 3",
   "language": "python",
   "name": "python3"
  },
  "language_info": {
   "codemirror_mode": {
    "name": "ipython",
    "version": 3
   },
   "file_extension": ".py",
   "mimetype": "text/x-python",
   "name": "python",
   "nbconvert_exporter": "python",
   "pygments_lexer": "ipython3",
   "version": "3.7.4"
  }
 },
 "nbformat": 4,
 "nbformat_minor": 2
}
